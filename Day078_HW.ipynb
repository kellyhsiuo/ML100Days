{
 "cells": [
  {
   "cell_type": "markdown",
   "metadata": {},
   "source": [
    "## Work\n",
    "1. 請嘗試將 preproc_x 替換成以每筆資料的 min/max 進行標準化至 -1 ~ 1 間，再進行訓練\n",
    "2. 請嘗試將 mlp 疊更深 (e.g 5~10 層)，進行訓練後觀察 learning curve 的走勢\n",
    "3. (optional) 請改用 GPU 進行訓練 (如果你有 GPU 的話)，比較使用 CPU 與 GPU 的訓練速度"
   ]
  },
  {
   "cell_type": "code",
   "execution_count": 1,
   "metadata": {},
   "outputs": [
    {
     "name": "stdout",
     "output_type": "stream",
     "text": [
      "Mon Dec 28 16:44:03 2020       \n",
      "+-----------------------------------------------------------------------------+\n",
      "| NVIDIA-SMI 452.41       Driver Version: 452.41       CUDA Version: 11.0     |\n",
      "|-------------------------------+----------------------+----------------------+\n",
      "| GPU  Name            TCC/WDDM | Bus-Id        Disp.A | Volatile Uncorr. ECC |\n",
      "| Fan  Temp  Perf  Pwr:Usage/Cap|         Memory-Usage | GPU-Util  Compute M. |\n",
      "|                               |                      |               MIG M. |\n",
      "|===============================+======================+======================|\n",
      "|   0  GeForce MX150      WDDM  | 00000000:02:00.0 Off |                  N/A |\n",
      "| N/A   53C    P8    N/A /  N/A |     64MiB /  2048MiB |      0%      Default |\n",
      "|                               |                      |                  N/A |\n",
      "+-------------------------------+----------------------+----------------------+\n",
      "                                                                               \n",
      "+-----------------------------------------------------------------------------+\n",
      "| Processes:                                                                  |\n",
      "|  GPU   GI   CI        PID   Type   Process name                  GPU Memory |\n",
      "|        ID   ID                                                   Usage      |\n",
      "|=============================================================================|\n",
      "|  No running processes found                                                 |\n",
      "+-----------------------------------------------------------------------------+\n"
     ]
    }
   ],
   "source": [
    "## \n",
    "\"\"\"\n",
    "Your code here (optional)\n",
    "確認硬體資源\n",
    "\"\"\"\n",
    "!nvidia-smi"
   ]
  },
  {
   "cell_type": "code",
   "execution_count": 2,
   "metadata": {},
   "outputs": [
    {
     "name": "stderr",
     "output_type": "stream",
     "text": [
      "Using TensorFlow backend.\n",
      "C:\\Users\\apply\\AppData\\Roaming\\Python\\Python36\\site-packages\\tensorflow\\python\\framework\\dtypes.py:526: FutureWarning: Passing (type, 1) or '1type' as a synonym of type is deprecated; in a future version of numpy, it will be understood as (type, (1,)) / '(1,)type'.\n",
      "  _np_qint8 = np.dtype([(\"qint8\", np.int8, 1)])\n",
      "C:\\Users\\apply\\AppData\\Roaming\\Python\\Python36\\site-packages\\tensorflow\\python\\framework\\dtypes.py:527: FutureWarning: Passing (type, 1) or '1type' as a synonym of type is deprecated; in a future version of numpy, it will be understood as (type, (1,)) / '(1,)type'.\n",
      "  _np_quint8 = np.dtype([(\"quint8\", np.uint8, 1)])\n",
      "C:\\Users\\apply\\AppData\\Roaming\\Python\\Python36\\site-packages\\tensorflow\\python\\framework\\dtypes.py:528: FutureWarning: Passing (type, 1) or '1type' as a synonym of type is deprecated; in a future version of numpy, it will be understood as (type, (1,)) / '(1,)type'.\n",
      "  _np_qint16 = np.dtype([(\"qint16\", np.int16, 1)])\n",
      "C:\\Users\\apply\\AppData\\Roaming\\Python\\Python36\\site-packages\\tensorflow\\python\\framework\\dtypes.py:529: FutureWarning: Passing (type, 1) or '1type' as a synonym of type is deprecated; in a future version of numpy, it will be understood as (type, (1,)) / '(1,)type'.\n",
      "  _np_quint16 = np.dtype([(\"quint16\", np.uint16, 1)])\n",
      "C:\\Users\\apply\\AppData\\Roaming\\Python\\Python36\\site-packages\\tensorflow\\python\\framework\\dtypes.py:530: FutureWarning: Passing (type, 1) or '1type' as a synonym of type is deprecated; in a future version of numpy, it will be understood as (type, (1,)) / '(1,)type'.\n",
      "  _np_qint32 = np.dtype([(\"qint32\", np.int32, 1)])\n",
      "C:\\Users\\apply\\AppData\\Roaming\\Python\\Python36\\site-packages\\tensorflow\\python\\framework\\dtypes.py:535: FutureWarning: Passing (type, 1) or '1type' as a synonym of type is deprecated; in a future version of numpy, it will be understood as (type, (1,)) / '(1,)type'.\n",
      "  np_resource = np.dtype([(\"resource\", np.ubyte, 1)])\n"
     ]
    }
   ],
   "source": [
    "import os\n",
    "import keras\n",
    "\n",
    "# 請嘗試設定 GPU：os.environ\n",
    "\n",
    "os.environ[\"CUDA_VISIBLE_DEVICES\"] = \"0\""
   ]
  },
  {
   "cell_type": "code",
   "execution_count": 3,
   "metadata": {},
   "outputs": [],
   "source": [
    "train, test = keras.datasets.cifar10.load_data()"
   ]
  },
  {
   "cell_type": "code",
   "execution_count": 4,
   "metadata": {},
   "outputs": [],
   "source": [
    "## 資料前處理\n",
    "\"\"\"\n",
    "Your code here\n",
    "\"\"\"\n",
    "def preproc_x(x, flatten=True):\n",
    "    x = 2*(((x - x.min()) / (x.max() - x.min()))-0.5)\n",
    "    if flatten:\n",
    "        x = x.reshape((len(x), -1))\n",
    "    return x\n",
    "\n",
    "def preproc_y(y, num_classes=10):\n",
    "    if y.shape[-1] == 1:\n",
    "        y = keras.utils.to_categorical(y, num_classes)\n",
    "    return y    "
   ]
  },
  {
   "cell_type": "code",
   "execution_count": 5,
   "metadata": {},
   "outputs": [],
   "source": [
    "x_train, y_train = train\n",
    "x_test, y_test = test\n",
    "\n",
    "# Preproc the inputs\n",
    "x_train = preproc_x(x_train)\n",
    "x_test = preproc_x(x_test)\n",
    "\n",
    "# Preprc the outputs\n",
    "y_train = preproc_y(y_train)\n",
    "y_test = preproc_y(y_test)"
   ]
  },
  {
   "cell_type": "code",
   "execution_count": 6,
   "metadata": {},
   "outputs": [
    {
     "name": "stdout",
     "output_type": "stream",
     "text": [
      "WARNING:tensorflow:From C:\\Users\\apply\\AppData\\Roaming\\Python\\Python36\\site-packages\\tensorflow\\python\\ops\\resource_variable_ops.py:435: colocate_with (from tensorflow.python.framework.ops) is deprecated and will be removed in a future version.\n",
      "Instructions for updating:\n",
      "Colocations handled automatically by placer.\n",
      "Model: \"model_1\"\n",
      "_________________________________________________________________\n",
      "Layer (type)                 Output Shape              Param #   \n",
      "=================================================================\n",
      "input_1 (InputLayer)         (None, 3072)              0         \n",
      "_________________________________________________________________\n",
      "hidden_layer1 (Dense)        (None, 512)               1573376   \n",
      "_________________________________________________________________\n",
      "hidden_layer2 (Dense)        (None, 256)               131328    \n",
      "_________________________________________________________________\n",
      "hidden_layer3 (Dense)        (None, 128)               32896     \n",
      "_________________________________________________________________\n",
      "hidden_layer4 (Dense)        (None, 128)               16512     \n",
      "_________________________________________________________________\n",
      "hidden_layer5 (Dense)        (None, 128)               16512     \n",
      "_________________________________________________________________\n",
      "output (Dense)               (None, 10)                1290      \n",
      "=================================================================\n",
      "Total params: 1,771,914\n",
      "Trainable params: 1,771,914\n",
      "Non-trainable params: 0\n",
      "_________________________________________________________________\n"
     ]
    }
   ],
   "source": [
    "\"\"\"Code Here\n",
    "建立你的神經網路\n",
    "\"\"\"\n",
    "def build_mlp(input_shape, output_units=10, num_neurons=[512, 256, 128, 128, 128]):\n",
    "    input_layer = keras.layers.Input(input_shape)\n",
    "    \n",
    "    for i, n_units in enumerate(num_neurons):\n",
    "        if i == 0:\n",
    "            x = keras.layers.Dense(units=n_units, activation=\"relu\", name=\"hidden_layer\"+str(i+1))(input_layer)\n",
    "        else:\n",
    "            x = keras.layers.Dense(units=n_units, activation=\"relu\", name=\"hidden_layer\"+str(i+1))(x)\n",
    "    \n",
    "    out = keras.layers.Dense(units=output_units, activation=\"softmax\", name=\"output\")(x)\n",
    "    \n",
    "    model = keras.models.Model(inputs=[input_layer], outputs=[out])    \n",
    "    return model\n",
    "\n",
    "model = build_mlp(input_shape=x_train.shape[1:])\n",
    "model.summary()"
   ]
  },
  {
   "cell_type": "code",
   "execution_count": 7,
   "metadata": {},
   "outputs": [],
   "source": [
    "## 超參數設定\n",
    "LEARNING_RATE = 0.001\n",
    "EPOCHS = 100\n",
    "BATCH_SIZE = 256"
   ]
  },
  {
   "cell_type": "code",
   "execution_count": 8,
   "metadata": {},
   "outputs": [],
   "source": [
    "optimizer = keras.optimizers.Adam(lr=LEARNING_RATE)\n",
    "model.compile(loss=\"categorical_crossentropy\", metrics=[\"accuracy\"], optimizer=optimizer)"
   ]
  },
  {
   "cell_type": "code",
   "execution_count": 9,
   "metadata": {},
   "outputs": [
    {
     "name": "stdout",
     "output_type": "stream",
     "text": [
      "WARNING:tensorflow:From C:\\Users\\apply\\AppData\\Roaming\\Python\\Python36\\site-packages\\tensorflow\\python\\ops\\math_ops.py:3066: to_int32 (from tensorflow.python.ops.math_ops) is deprecated and will be removed in a future version.\n",
      "Instructions for updating:\n",
      "Use tf.cast instead.\n",
      "Train on 50000 samples, validate on 10000 samples\n",
      "Epoch 1/100\n",
      "50000/50000 [==============================] - 5s 104us/step - loss: 1.6983 - accuracy: 0.3968 - val_loss: 1.5416 - val_accuracy: 0.4547\n",
      "Epoch 2/100\n",
      "50000/50000 [==============================] - 5s 98us/step - loss: 1.4706 - accuracy: 0.4825 - val_loss: 1.4629 - val_accuracy: 0.4884\n",
      "Epoch 3/100\n",
      "50000/50000 [==============================] - 5s 96us/step - loss: 1.3501 - accuracy: 0.5242 - val_loss: 1.4330 - val_accuracy: 0.5030\n",
      "Epoch 4/100\n",
      "50000/50000 [==============================] - 5s 100us/step - loss: 1.2565 - accuracy: 0.5563 - val_loss: 1.3745 - val_accuracy: 0.5153\n",
      "Epoch 5/100\n",
      "50000/50000 [==============================] - 5s 104us/step - loss: 1.1641 - accuracy: 0.5881 - val_loss: 1.3831 - val_accuracy: 0.5190\n",
      "Epoch 6/100\n",
      "50000/50000 [==============================] - 5s 98us/step - loss: 1.0926 - accuracy: 0.6130 - val_loss: 1.3605 - val_accuracy: 0.5348\n",
      "Epoch 7/100\n",
      "50000/50000 [==============================] - 5s 95us/step - loss: 1.0155 - accuracy: 0.6415 - val_loss: 1.3833 - val_accuracy: 0.5361\n",
      "Epoch 8/100\n",
      "50000/50000 [==============================] - 5s 94us/step - loss: 0.9431 - accuracy: 0.6642 - val_loss: 1.4161 - val_accuracy: 0.5332\n",
      "Epoch 9/100\n",
      "50000/50000 [==============================] - 5s 95us/step - loss: 0.8790 - accuracy: 0.6888 - val_loss: 1.4556 - val_accuracy: 0.5315\n",
      "Epoch 10/100\n",
      "50000/50000 [==============================] - 5s 95us/step - loss: 0.8085 - accuracy: 0.7124 - val_loss: 1.4885 - val_accuracy: 0.5372\n",
      "Epoch 11/100\n",
      "50000/50000 [==============================] - 5s 94us/step - loss: 0.7471 - accuracy: 0.7360 - val_loss: 1.5631 - val_accuracy: 0.5287\n",
      "Epoch 12/100\n",
      "50000/50000 [==============================] - 5s 94us/step - loss: 0.6811 - accuracy: 0.7580 - val_loss: 1.5953 - val_accuracy: 0.5331\n",
      "Epoch 13/100\n",
      "50000/50000 [==============================] - 5s 94us/step - loss: 0.6248 - accuracy: 0.7762 - val_loss: 1.6906 - val_accuracy: 0.5280\n",
      "Epoch 14/100\n",
      "50000/50000 [==============================] - 5s 94us/step - loss: 0.5831 - accuracy: 0.7921 - val_loss: 1.7592 - val_accuracy: 0.5351\n",
      "Epoch 15/100\n",
      "50000/50000 [==============================] - 5s 95us/step - loss: 0.5374 - accuracy: 0.8073 - val_loss: 1.8425 - val_accuracy: 0.5275\n",
      "Epoch 16/100\n",
      "50000/50000 [==============================] - 5s 95us/step - loss: 0.4837 - accuracy: 0.8271 - val_loss: 1.8783 - val_accuracy: 0.5209\n",
      "Epoch 17/100\n",
      "50000/50000 [==============================] - 5s 95us/step - loss: 0.4478 - accuracy: 0.8393 - val_loss: 1.9718 - val_accuracy: 0.5316\n",
      "Epoch 18/100\n",
      "50000/50000 [==============================] - 5s 95us/step - loss: 0.4206 - accuracy: 0.8528 - val_loss: 2.0872 - val_accuracy: 0.5242\n",
      "Epoch 19/100\n",
      "50000/50000 [==============================] - 5s 98us/step - loss: 0.3805 - accuracy: 0.8655 - val_loss: 2.1647 - val_accuracy: 0.5295\n",
      "Epoch 20/100\n",
      "50000/50000 [==============================] - 5s 94us/step - loss: 0.3610 - accuracy: 0.8717 - val_loss: 2.2412 - val_accuracy: 0.5278\n",
      "Epoch 21/100\n",
      "50000/50000 [==============================] - 5s 95us/step - loss: 0.3498 - accuracy: 0.8771 - val_loss: 2.3811 - val_accuracy: 0.5305\n",
      "Epoch 22/100\n",
      "50000/50000 [==============================] - 5s 97us/step - loss: 0.3120 - accuracy: 0.8908 - val_loss: 2.3560 - val_accuracy: 0.5232\n",
      "Epoch 23/100\n",
      "50000/50000 [==============================] - 5s 95us/step - loss: 0.2832 - accuracy: 0.8996 - val_loss: 2.4871 - val_accuracy: 0.5261\n",
      "Epoch 24/100\n",
      "50000/50000 [==============================] - 5s 100us/step - loss: 0.2659 - accuracy: 0.9062 - val_loss: 2.6430 - val_accuracy: 0.5284\n",
      "Epoch 25/100\n",
      "50000/50000 [==============================] - 5s 92us/step - loss: 0.2651 - accuracy: 0.9081 - val_loss: 2.5977 - val_accuracy: 0.5259\n",
      "Epoch 26/100\n",
      "50000/50000 [==============================] - 5s 95us/step - loss: 0.2490 - accuracy: 0.9126 - val_loss: 2.6280 - val_accuracy: 0.5326\n",
      "Epoch 27/100\n",
      "50000/50000 [==============================] - 5s 102us/step - loss: 0.2310 - accuracy: 0.9189 - val_loss: 2.7335 - val_accuracy: 0.5224\n",
      "Epoch 28/100\n",
      "50000/50000 [==============================] - 5s 101us/step - loss: 0.2311 - accuracy: 0.9193 - val_loss: 2.7677 - val_accuracy: 0.5332\n",
      "Epoch 29/100\n",
      "50000/50000 [==============================] - 5s 99us/step - loss: 0.2167 - accuracy: 0.9242 - val_loss: 2.8713 - val_accuracy: 0.5238\n",
      "Epoch 30/100\n",
      "50000/50000 [==============================] - 5s 103us/step - loss: 0.2148 - accuracy: 0.9263 - val_loss: 2.8358 - val_accuracy: 0.5306\n",
      "Epoch 31/100\n",
      "50000/50000 [==============================] - 5s 101us/step - loss: 0.1932 - accuracy: 0.9331 - val_loss: 3.0043 - val_accuracy: 0.5308\n",
      "Epoch 32/100\n",
      "50000/50000 [==============================] - 5s 96us/step - loss: 0.1821 - accuracy: 0.9369 - val_loss: 3.0849 - val_accuracy: 0.5315\n",
      "Epoch 33/100\n",
      "50000/50000 [==============================] - 5s 90us/step - loss: 0.1768 - accuracy: 0.9403 - val_loss: 3.0422 - val_accuracy: 0.5297\n",
      "Epoch 34/100\n",
      "50000/50000 [==============================] - 4s 89us/step - loss: 0.1887 - accuracy: 0.9357 - val_loss: 2.9846 - val_accuracy: 0.5237\n",
      "Epoch 35/100\n",
      "50000/50000 [==============================] - 5s 91us/step - loss: 0.1762 - accuracy: 0.9399 - val_loss: 3.1185 - val_accuracy: 0.5231\n",
      "Epoch 36/100\n",
      "50000/50000 [==============================] - 5s 90us/step - loss: 0.1770 - accuracy: 0.9392 - val_loss: 3.1197 - val_accuracy: 0.5297\n",
      "Epoch 37/100\n",
      "50000/50000 [==============================] - 4s 89us/step - loss: 0.1738 - accuracy: 0.9400 - val_loss: 3.1959 - val_accuracy: 0.5296\n",
      "Epoch 38/100\n",
      "50000/50000 [==============================] - 4s 90us/step - loss: 0.1571 - accuracy: 0.9464 - val_loss: 3.3582 - val_accuracy: 0.5192\n",
      "Epoch 39/100\n",
      "50000/50000 [==============================] - 5s 91us/step - loss: 0.1573 - accuracy: 0.9464 - val_loss: 3.2019 - val_accuracy: 0.5266\n",
      "Epoch 40/100\n",
      "50000/50000 [==============================] - 5s 93us/step - loss: 0.1318 - accuracy: 0.9551 - val_loss: 3.3200 - val_accuracy: 0.5222\n",
      "Epoch 41/100\n",
      "50000/50000 [==============================] - 5s 91us/step - loss: 0.1614 - accuracy: 0.9475 - val_loss: 3.3818 - val_accuracy: 0.5242\n",
      "Epoch 42/100\n",
      "50000/50000 [==============================] - 5s 92us/step - loss: 0.1545 - accuracy: 0.9473 - val_loss: 3.3228 - val_accuracy: 0.5283\n",
      "Epoch 43/100\n",
      "50000/50000 [==============================] - 4s 90us/step - loss: 0.1290 - accuracy: 0.9564 - val_loss: 3.2876 - val_accuracy: 0.5280\n",
      "Epoch 44/100\n",
      "50000/50000 [==============================] - 4s 90us/step - loss: 0.1461 - accuracy: 0.9506 - val_loss: 3.3098 - val_accuracy: 0.5229\n",
      "Epoch 45/100\n",
      "50000/50000 [==============================] - 4s 89us/step - loss: 0.1285 - accuracy: 0.9564 - val_loss: 3.4608 - val_accuracy: 0.5273\n",
      "Epoch 46/100\n",
      "50000/50000 [==============================] - 4s 89us/step - loss: 0.1368 - accuracy: 0.9550 - val_loss: 3.4520 - val_accuracy: 0.5260\n",
      "Epoch 47/100\n",
      "50000/50000 [==============================] - 4s 89us/step - loss: 0.1242 - accuracy: 0.9583 - val_loss: 3.5051 - val_accuracy: 0.5228\n",
      "Epoch 48/100\n",
      "50000/50000 [==============================] - 5s 90us/step - loss: 0.1376 - accuracy: 0.9535 - val_loss: 3.4544 - val_accuracy: 0.5324\n",
      "Epoch 49/100\n",
      "50000/50000 [==============================] - 4s 89us/step - loss: 0.1232 - accuracy: 0.9591 - val_loss: 3.3859 - val_accuracy: 0.5246\n",
      "Epoch 50/100\n",
      "50000/50000 [==============================] - 4s 89us/step - loss: 0.1117 - accuracy: 0.9626 - val_loss: 3.5413 - val_accuracy: 0.5327\n",
      "Epoch 51/100\n",
      "50000/50000 [==============================] - 5s 92us/step - loss: 0.1107 - accuracy: 0.9632 - val_loss: 3.5893 - val_accuracy: 0.5294\n",
      "Epoch 52/100\n",
      "50000/50000 [==============================] - 4s 90us/step - loss: 0.1145 - accuracy: 0.9624 - val_loss: 3.5451 - val_accuracy: 0.5358\n",
      "Epoch 53/100\n",
      "50000/50000 [==============================] - 4s 89us/step - loss: 0.1311 - accuracy: 0.9560 - val_loss: 3.4578 - val_accuracy: 0.5238\n"
     ]
    },
    {
     "name": "stdout",
     "output_type": "stream",
     "text": [
      "Epoch 54/100\n",
      "50000/50000 [==============================] - 4s 90us/step - loss: 0.1073 - accuracy: 0.9637 - val_loss: 3.5714 - val_accuracy: 0.5342\n",
      "Epoch 55/100\n",
      "50000/50000 [==============================] - 4s 89us/step - loss: 0.1074 - accuracy: 0.9643 - val_loss: 3.6033 - val_accuracy: 0.5238\n",
      "Epoch 56/100\n",
      "50000/50000 [==============================] - 4s 90us/step - loss: 0.1153 - accuracy: 0.9613 - val_loss: 3.6721 - val_accuracy: 0.5230\n",
      "Epoch 57/100\n",
      "50000/50000 [==============================] - 4s 90us/step - loss: 0.1072 - accuracy: 0.9648 - val_loss: 3.5103 - val_accuracy: 0.5257\n",
      "Epoch 58/100\n",
      "50000/50000 [==============================] - 4s 89us/step - loss: 0.0900 - accuracy: 0.9699 - val_loss: 3.7316 - val_accuracy: 0.5170\n",
      "Epoch 59/100\n",
      "50000/50000 [==============================] - 5s 91us/step - loss: 0.1219 - accuracy: 0.9594 - val_loss: 3.6051 - val_accuracy: 0.5250\n",
      "Epoch 60/100\n",
      "50000/50000 [==============================] - 4s 89us/step - loss: 0.1199 - accuracy: 0.9611 - val_loss: 3.5598 - val_accuracy: 0.5355\n",
      "Epoch 61/100\n",
      "50000/50000 [==============================] - 4s 89us/step - loss: 0.0845 - accuracy: 0.9722 - val_loss: 3.7861 - val_accuracy: 0.5340\n",
      "Epoch 62/100\n",
      "50000/50000 [==============================] - 4s 89us/step - loss: 0.0996 - accuracy: 0.9681 - val_loss: 3.7362 - val_accuracy: 0.5237\n",
      "Epoch 63/100\n",
      "50000/50000 [==============================] - 4s 89us/step - loss: 0.1005 - accuracy: 0.9664 - val_loss: 3.7760 - val_accuracy: 0.5260\n",
      "Epoch 64/100\n",
      "50000/50000 [==============================] - 4s 89us/step - loss: 0.1088 - accuracy: 0.9644 - val_loss: 3.6855 - val_accuracy: 0.5280\n",
      "Epoch 65/100\n",
      "50000/50000 [==============================] - 4s 89us/step - loss: 0.0992 - accuracy: 0.9676 - val_loss: 3.6821 - val_accuracy: 0.5315\n",
      "Epoch 66/100\n",
      "50000/50000 [==============================] - 4s 89us/step - loss: 0.1069 - accuracy: 0.9650 - val_loss: 3.7228 - val_accuracy: 0.5284\n",
      "Epoch 67/100\n",
      "50000/50000 [==============================] - 4s 89us/step - loss: 0.0894 - accuracy: 0.9700 - val_loss: 3.7536 - val_accuracy: 0.5257\n",
      "Epoch 68/100\n",
      "50000/50000 [==============================] - 4s 89us/step - loss: 0.0877 - accuracy: 0.9712 - val_loss: 3.8531 - val_accuracy: 0.5353\n",
      "Epoch 69/100\n",
      "50000/50000 [==============================] - 4s 88us/step - loss: 0.0898 - accuracy: 0.9703 - val_loss: 3.8001 - val_accuracy: 0.5289\n",
      "Epoch 70/100\n",
      "50000/50000 [==============================] - 4s 89us/step - loss: 0.0949 - accuracy: 0.9697 - val_loss: 3.8673 - val_accuracy: 0.5229\n",
      "Epoch 71/100\n",
      "50000/50000 [==============================] - 4s 89us/step - loss: 0.0980 - accuracy: 0.9675 - val_loss: 3.7803 - val_accuracy: 0.5234\n",
      "Epoch 72/100\n",
      "50000/50000 [==============================] - 4s 89us/step - loss: 0.0857 - accuracy: 0.9716 - val_loss: 3.7560 - val_accuracy: 0.5185\n",
      "Epoch 73/100\n",
      "50000/50000 [==============================] - 4s 89us/step - loss: 0.0850 - accuracy: 0.9724 - val_loss: 3.7892 - val_accuracy: 0.5257\n",
      "Epoch 74/100\n",
      "50000/50000 [==============================] - 4s 88us/step - loss: 0.1033 - accuracy: 0.9653 - val_loss: 3.7095 - val_accuracy: 0.5283\n",
      "Epoch 75/100\n",
      "50000/50000 [==============================] - 5s 90us/step - loss: 0.0767 - accuracy: 0.9760 - val_loss: 3.8583 - val_accuracy: 0.5236\n",
      "Epoch 76/100\n",
      "50000/50000 [==============================] - 4s 89us/step - loss: 0.0793 - accuracy: 0.9740 - val_loss: 3.7547 - val_accuracy: 0.5260\n",
      "Epoch 77/100\n",
      "50000/50000 [==============================] - 4s 89us/step - loss: 0.0799 - accuracy: 0.9741 - val_loss: 3.9749 - val_accuracy: 0.5286\n",
      "Epoch 78/100\n",
      "50000/50000 [==============================] - 4s 89us/step - loss: 0.0919 - accuracy: 0.9702 - val_loss: 3.8588 - val_accuracy: 0.5269\n",
      "Epoch 79/100\n",
      "50000/50000 [==============================] - 4s 89us/step - loss: 0.0777 - accuracy: 0.9750 - val_loss: 3.8759 - val_accuracy: 0.5279\n",
      "Epoch 80/100\n",
      "50000/50000 [==============================] - 4s 89us/step - loss: 0.0864 - accuracy: 0.9724 - val_loss: 3.7784 - val_accuracy: 0.5206\n",
      "Epoch 81/100\n",
      "50000/50000 [==============================] - 4s 89us/step - loss: 0.0869 - accuracy: 0.9709 - val_loss: 3.8728 - val_accuracy: 0.5303\n",
      "Epoch 82/100\n",
      "50000/50000 [==============================] - 4s 89us/step - loss: 0.0872 - accuracy: 0.9730 - val_loss: 3.7634 - val_accuracy: 0.5252\n",
      "Epoch 83/100\n",
      "50000/50000 [==============================] - 4s 89us/step - loss: 0.0682 - accuracy: 0.9782 - val_loss: 3.8754 - val_accuracy: 0.5310\n",
      "Epoch 84/100\n",
      "50000/50000 [==============================] - 4s 89us/step - loss: 0.0983 - accuracy: 0.9687 - val_loss: 3.8591 - val_accuracy: 0.5349\n",
      "Epoch 85/100\n",
      "50000/50000 [==============================] - 4s 89us/step - loss: 0.0770 - accuracy: 0.9750 - val_loss: 3.9497 - val_accuracy: 0.5259\n",
      "Epoch 86/100\n",
      "50000/50000 [==============================] - 5s 93us/step - loss: 0.0664 - accuracy: 0.9784 - val_loss: 3.8705 - val_accuracy: 0.5300\n",
      "Epoch 87/100\n",
      "50000/50000 [==============================] - 5s 90us/step - loss: 0.0649 - accuracy: 0.9786 - val_loss: 4.0424 - val_accuracy: 0.5252\n",
      "Epoch 88/100\n",
      "50000/50000 [==============================] - 5s 90us/step - loss: 0.0901 - accuracy: 0.9715 - val_loss: 3.8329 - val_accuracy: 0.5270\n",
      "Epoch 89/100\n",
      "50000/50000 [==============================] - 5s 90us/step - loss: 0.0762 - accuracy: 0.9748 - val_loss: 3.9083 - val_accuracy: 0.5246\n",
      "Epoch 90/100\n",
      "50000/50000 [==============================] - 4s 90us/step - loss: 0.0804 - accuracy: 0.9746 - val_loss: 3.8485 - val_accuracy: 0.5296\n",
      "Epoch 91/100\n",
      "50000/50000 [==============================] - 4s 90us/step - loss: 0.0830 - accuracy: 0.9737 - val_loss: 3.8755 - val_accuracy: 0.5338\n",
      "Epoch 92/100\n",
      "50000/50000 [==============================] - 4s 89us/step - loss: 0.0676 - accuracy: 0.9778 - val_loss: 3.9758 - val_accuracy: 0.5329\n",
      "Epoch 93/100\n",
      "50000/50000 [==============================] - 4s 89us/step - loss: 0.0759 - accuracy: 0.9756 - val_loss: 3.8461 - val_accuracy: 0.5325\n",
      "Epoch 94/100\n",
      "50000/50000 [==============================] - 4s 89us/step - loss: 0.0612 - accuracy: 0.9807 - val_loss: 4.0823 - val_accuracy: 0.5267\n",
      "Epoch 95/100\n",
      "50000/50000 [==============================] - 4s 90us/step - loss: 0.0648 - accuracy: 0.9793 - val_loss: 4.1040 - val_accuracy: 0.5231\n",
      "Epoch 96/100\n",
      "50000/50000 [==============================] - 4s 90us/step - loss: 0.0812 - accuracy: 0.9750 - val_loss: 3.8546 - val_accuracy: 0.5252\n",
      "Epoch 97/100\n",
      "50000/50000 [==============================] - 4s 90us/step - loss: 0.0678 - accuracy: 0.9775 - val_loss: 4.0104 - val_accuracy: 0.5341\n",
      "Epoch 98/100\n",
      "50000/50000 [==============================] - 4s 89us/step - loss: 0.0738 - accuracy: 0.9769 - val_loss: 3.8204 - val_accuracy: 0.5267\n",
      "Epoch 99/100\n",
      "50000/50000 [==============================] - 5s 92us/step - loss: 0.0673 - accuracy: 0.9792 - val_loss: 3.8444 - val_accuracy: 0.5284\n",
      "Epoch 100/100\n",
      "50000/50000 [==============================] - 4s 89us/step - loss: 0.0695 - accuracy: 0.9771 - val_loss: 3.8342 - val_accuracy: 0.5225\n"
     ]
    },
    {
     "data": {
      "text/plain": [
       "<keras.callbacks.callbacks.History at 0x25dfa59ab70>"
      ]
     },
     "execution_count": 9,
     "metadata": {},
     "output_type": "execute_result"
    }
   ],
   "source": [
    "model.fit(x_train, y_train, \n",
    "          epochs=EPOCHS, \n",
    "          batch_size=BATCH_SIZE, \n",
    "          validation_data=(x_test, y_test), \n",
    "          shuffle=True)"
   ]
  },
  {
   "cell_type": "code",
   "execution_count": 11,
   "metadata": {},
   "outputs": [
    {
     "data": {
      "image/png": "[encoded data removed]",
      "text/plain": [
       "<Figure size 432x288 with 1 Axes>"
      ]
     },
     "metadata": {
      "needs_background": "light"
     },
     "output_type": "display_data"
    },
    {
     "data": {
      "image/png": "[encoded data removed]",
      "text/plain": [
       "<Figure size 432x288 with 1 Axes>"
      ]
     },
     "metadata": {
      "needs_background": "light"
     },
     "output_type": "display_data"
    }
   ],
   "source": [
    "import matplotlib.pyplot as plt\n",
    "\n",
    "\n",
    "train_loss = model.history.history[\"loss\"]\n",
    "valid_loss = model.history.history[\"val_loss\"]\n",
    "\n",
    "train_acc = model.history.history[\"accuracy\"]\n",
    "valid_acc = model.history.history[\"val_accuracy\"]\n",
    "\n",
    "plt.plot(range(len(train_loss)), train_loss, label=\"train loss\")\n",
    "plt.plot(range(len(valid_loss)), valid_loss, label=\"valid loss\")\n",
    "plt.legend()\n",
    "plt.title(\"Loss\")\n",
    "plt.show()\n",
    "\n",
    "plt.plot(range(len(train_acc)), train_acc, label=\"train accuracy\")\n",
    "plt.plot(range(len(valid_acc)), valid_acc, label=\"valid accuracy\")\n",
    "plt.legend()\n",
    "plt.title(\"Accuracy\")\n",
    "plt.show()"
   ]
  },
  {
   "cell_type": "code",
   "execution_count": null,
   "metadata": {},
   "outputs": [],
   "source": []
  }
 ],
 "metadata": {
  "kernelspec": {
   "display_name": "Python 3",
   "language": "python",
   "name": "python3"
  },
  "language_info": {
   "codemirror_mode": {
    "name": "ipython",
    "version": 3
   },
   "file_extension": ".py",
   "mimetype": "text/x-python",
   "name": "python",
   "nbconvert_exporter": "python",
   "pygments_lexer": "ipython3",
   "version": "3.6.9"
  }
 },
 "nbformat": 4,
 "nbformat_minor": 2
}
