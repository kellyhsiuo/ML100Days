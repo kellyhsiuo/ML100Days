{
 "cells": [
  {
   "cell_type": "markdown",
   "metadata": {},
   "source": [
    "## Work\n",
    "1. 請比較 SGD optimizer 不同的 momentum 及使用 nesterov 與否的表現"
   ]
  },
  {
   "cell_type": "code",
   "execution_count": 1,
   "metadata": {},
   "outputs": [
    {
     "name": "stderr",
     "output_type": "stream",
     "text": [
      "Using TensorFlow backend.\n",
      "C:\\Users\\apply\\AppData\\Roaming\\Python\\Python36\\site-packages\\tensorflow\\python\\framework\\dtypes.py:526: FutureWarning: Passing (type, 1) or '1type' as a synonym of type is deprecated; in a future version of numpy, it will be understood as (type, (1,)) / '(1,)type'.\n",
      "  _np_qint8 = np.dtype([(\"qint8\", np.int8, 1)])\n",
      "C:\\Users\\apply\\AppData\\Roaming\\Python\\Python36\\site-packages\\tensorflow\\python\\framework\\dtypes.py:527: FutureWarning: Passing (type, 1) or '1type' as a synonym of type is deprecated; in a future version of numpy, it will be understood as (type, (1,)) / '(1,)type'.\n",
      "  _np_quint8 = np.dtype([(\"quint8\", np.uint8, 1)])\n",
      "C:\\Users\\apply\\AppData\\Roaming\\Python\\Python36\\site-packages\\tensorflow\\python\\framework\\dtypes.py:528: FutureWarning: Passing (type, 1) or '1type' as a synonym of type is deprecated; in a future version of numpy, it will be understood as (type, (1,)) / '(1,)type'.\n",
      "  _np_qint16 = np.dtype([(\"qint16\", np.int16, 1)])\n",
      "C:\\Users\\apply\\AppData\\Roaming\\Python\\Python36\\site-packages\\tensorflow\\python\\framework\\dtypes.py:529: FutureWarning: Passing (type, 1) or '1type' as a synonym of type is deprecated; in a future version of numpy, it will be understood as (type, (1,)) / '(1,)type'.\n",
      "  _np_quint16 = np.dtype([(\"quint16\", np.uint16, 1)])\n",
      "C:\\Users\\apply\\AppData\\Roaming\\Python\\Python36\\site-packages\\tensorflow\\python\\framework\\dtypes.py:530: FutureWarning: Passing (type, 1) or '1type' as a synonym of type is deprecated; in a future version of numpy, it will be understood as (type, (1,)) / '(1,)type'.\n",
      "  _np_qint32 = np.dtype([(\"qint32\", np.int32, 1)])\n",
      "C:\\Users\\apply\\AppData\\Roaming\\Python\\Python36\\site-packages\\tensorflow\\python\\framework\\dtypes.py:535: FutureWarning: Passing (type, 1) or '1type' as a synonym of type is deprecated; in a future version of numpy, it will be understood as (type, (1,)) / '(1,)type'.\n",
      "  np_resource = np.dtype([(\"resource\", np.ubyte, 1)])\n"
     ]
    }
   ],
   "source": [
    "import os\n",
    "import keras\n",
    "\n",
    "# 本作業可以不需使用 GPU, 將 GPU 設定為 \"無\" (若想使用可自行開啟)\n",
    "os.environ[\"CUDA_VISIBLE_DEVICES\"] = \"無\""
   ]
  },
  {
   "cell_type": "code",
   "execution_count": 2,
   "metadata": {},
   "outputs": [],
   "source": [
    "train, test = keras.datasets.cifar10.load_data()"
   ]
  },
  {
   "cell_type": "code",
   "execution_count": 3,
   "metadata": {},
   "outputs": [],
   "source": [
    "## 資料前處理\n",
    "def preproc_x(x, flatten=True):\n",
    "    x = x / 255.\n",
    "    if flatten:\n",
    "        x = x.reshape((len(x), -1))\n",
    "    return x\n",
    "\n",
    "def preproc_y(y, num_classes=10):\n",
    "    if y.shape[-1] == 1:\n",
    "        y = keras.utils.to_categorical(y, num_classes)\n",
    "    return y    "
   ]
  },
  {
   "cell_type": "code",
   "execution_count": 4,
   "metadata": {},
   "outputs": [],
   "source": [
    "x_train, y_train = train\n",
    "x_test, y_test = test\n",
    "\n",
    "# 資料前處理 - X 標準化\n",
    "x_train = preproc_x(x_train)\n",
    "x_test = preproc_x(x_test)\n",
    "\n",
    "# 資料前處理 -Y 轉成 onehot\n",
    "y_train = preproc_y(y_train)\n",
    "y_test = preproc_y(y_test)"
   ]
  },
  {
   "cell_type": "code",
   "execution_count": 5,
   "metadata": {},
   "outputs": [],
   "source": [
    "def build_mlp(input_shape, output_units=10, num_neurons=[512, 256, 128]):\n",
    "    input_layer = keras.layers.Input(input_shape)\n",
    "    \n",
    "    for i, n_units in enumerate(num_neurons):\n",
    "        if i == 0:\n",
    "            x = keras.layers.Dense(units=n_units, activation=\"relu\", name=\"hidden_layer\"+str(i+1))(input_layer)\n",
    "        else:\n",
    "            x = keras.layers.Dense(units=n_units, activation=\"relu\", name=\"hidden_layer\"+str(i+1))(x)\n",
    "    \n",
    "    out = keras.layers.Dense(units=output_units, activation=\"softmax\", name=\"output\")(x)\n",
    "    \n",
    "    model = keras.models.Model(inputs=[input_layer], outputs=[out])\n",
    "    return model"
   ]
  },
  {
   "cell_type": "code",
   "execution_count": 6,
   "metadata": {},
   "outputs": [],
   "source": [
    "\"\"\"Code Here\n",
    "設定超參數\n",
    "\"\"\"\n",
    "LEARNING_RATE = [1e-1, 1e-2, 1e-3, 1e-4, 1e-5]\n",
    "EPOCHS = 50\n",
    "BATCH_SIZE = 256\n",
    "MOMENTUM = [0.7, 0.9, 0.95, 0.99]"
   ]
  },
  {
   "cell_type": "code",
   "execution_count": 7,
   "metadata": {
    "scrolled": true
   },
   "outputs": [
    {
     "name": "stdout",
     "output_type": "stream",
     "text": [
      "Experiment with LR = 0.100000, Momentum = 0.70\n",
      "WARNING:tensorflow:From C:\\Users\\apply\\AppData\\Roaming\\Python\\Python36\\site-packages\\tensorflow\\python\\ops\\resource_variable_ops.py:435: colocate_with (from tensorflow.python.framework.ops) is deprecated and will be removed in a future version.\n",
      "Instructions for updating:\n",
      "Colocations handled automatically by placer.\n",
      "Model: \"model_1\"\n",
      "_________________________________________________________________\n",
      "Layer (type)                 Output Shape              Param #   \n",
      "=================================================================\n",
      "input_1 (InputLayer)         (None, 3072)              0         \n",
      "_________________________________________________________________\n",
      "hidden_layer1 (Dense)        (None, 512)               1573376   \n",
      "_________________________________________________________________\n",
      "hidden_layer2 (Dense)        (None, 256)               131328    \n",
      "_________________________________________________________________\n",
      "hidden_layer3 (Dense)        (None, 128)               32896     \n",
      "_________________________________________________________________\n",
      "output (Dense)               (None, 10)                1290      \n",
      "=================================================================\n",
      "Total params: 1,738,890\n",
      "Trainable params: 1,738,890\n",
      "Non-trainable params: 0\n",
      "_________________________________________________________________\n",
      "WARNING:tensorflow:From C:\\Users\\apply\\AppData\\Roaming\\Python\\Python36\\site-packages\\tensorflow\\python\\ops\\math_ops.py:3066: to_int32 (from tensorflow.python.ops.math_ops) is deprecated and will be removed in a future version.\n",
      "Instructions for updating:\n",
      "Use tf.cast instead.\n",
      "Train on 50000 samples, validate on 10000 samples\n",
      "Epoch 1/50\n",
      "50000/50000 [==============================] - 9s 173us/step - loss: 2.0957 - accuracy: 0.2327 - val_loss: 1.9439 - val_accuracy: 0.2861\n",
      "Epoch 2/50\n",
      "50000/50000 [==============================] - 8s 159us/step - loss: 1.8320 - accuracy: 0.3375 - val_loss: 1.7474 - val_accuracy: 0.3619\n",
      "Epoch 3/50\n",
      "50000/50000 [==============================] - 9s 181us/step - loss: 1.7299 - accuracy: 0.3798 - val_loss: 1.6634 - val_accuracy: 0.4010\n",
      "Epoch 4/50\n",
      "50000/50000 [==============================] - 9s 181us/step - loss: 1.6477 - accuracy: 0.4098 - val_loss: 1.8278 - val_accuracy: 0.3549\n",
      "Epoch 5/50\n",
      "50000/50000 [==============================] - 9s 185us/step - loss: 1.6070 - accuracy: 0.4254 - val_loss: 1.7093 - val_accuracy: 0.4117\n",
      "Epoch 6/50\n",
      "50000/50000 [==============================] - 10s 197us/step - loss: 1.5889 - accuracy: 0.4332 - val_loss: 1.6767 - val_accuracy: 0.4033\n",
      "Epoch 7/50\n",
      "50000/50000 [==============================] - 9s 188us/step - loss: 1.5238 - accuracy: 0.4543 - val_loss: 1.5155 - val_accuracy: 0.4512\n",
      "Epoch 8/50\n",
      "50000/50000 [==============================] - 9s 171us/step - loss: 1.4867 - accuracy: 0.4670 - val_loss: 1.6475 - val_accuracy: 0.3995\n",
      "Epoch 9/50\n",
      "50000/50000 [==============================] - 9s 190us/step - loss: 1.4475 - accuracy: 0.4811 - val_loss: 1.5040 - val_accuracy: 0.4605\n",
      "Epoch 10/50\n",
      "50000/50000 [==============================] - 9s 188us/step - loss: 1.4328 - accuracy: 0.4866 - val_loss: 1.4876 - val_accuracy: 0.4705\n",
      "Epoch 11/50\n",
      "50000/50000 [==============================] - 8s 168us/step - loss: 1.3947 - accuracy: 0.5025 - val_loss: 1.5842 - val_accuracy: 0.4302\n",
      "Epoch 12/50\n",
      "50000/50000 [==============================] - 8s 168us/step - loss: 1.3728 - accuracy: 0.5045 - val_loss: 1.5425 - val_accuracy: 0.4459\n",
      "Epoch 13/50\n",
      "50000/50000 [==============================] - 9s 171us/step - loss: 1.3407 - accuracy: 0.5201 - val_loss: 1.5023 - val_accuracy: 0.4587\n",
      "Epoch 14/50\n",
      "50000/50000 [==============================] - 8s 168us/step - loss: 1.3177 - accuracy: 0.5289 - val_loss: 1.5204 - val_accuracy: 0.4732\n",
      "Epoch 15/50\n",
      "50000/50000 [==============================] - 8s 169us/step - loss: 1.2973 - accuracy: 0.5348 - val_loss: 1.5808 - val_accuracy: 0.4510\n",
      "Epoch 16/50\n",
      "50000/50000 [==============================] - 8s 168us/step - loss: 1.2718 - accuracy: 0.5456 - val_loss: 1.5563 - val_accuracy: 0.4508\n",
      "Epoch 17/50\n",
      "50000/50000 [==============================] - 8s 167us/step - loss: 1.2522 - accuracy: 0.5517 - val_loss: 1.4418 - val_accuracy: 0.4926\n",
      "Epoch 18/50\n",
      "50000/50000 [==============================] - 8s 167us/step - loss: 1.2274 - accuracy: 0.5620 - val_loss: 1.4679 - val_accuracy: 0.4841\n",
      "Epoch 19/50\n",
      "50000/50000 [==============================] - 8s 168us/step - loss: 1.2049 - accuracy: 0.5683 - val_loss: 1.4949 - val_accuracy: 0.4817\n",
      "Epoch 20/50\n",
      "50000/50000 [==============================] - 8s 168us/step - loss: 1.1863 - accuracy: 0.5739 - val_loss: 1.4216 - val_accuracy: 0.5005\n",
      "Epoch 21/50\n",
      "50000/50000 [==============================] - 8s 168us/step - loss: 1.1695 - accuracy: 0.5797 - val_loss: 1.4995 - val_accuracy: 0.4934\n",
      "Epoch 22/50\n",
      "50000/50000 [==============================] - 8s 168us/step - loss: 1.1488 - accuracy: 0.5887 - val_loss: 1.4455 - val_accuracy: 0.5087\n",
      "Epoch 23/50\n",
      "50000/50000 [==============================] - 8s 167us/step - loss: 1.1241 - accuracy: 0.5977 - val_loss: 1.4944 - val_accuracy: 0.4877\n",
      "Epoch 24/50\n",
      "50000/50000 [==============================] - 8s 169us/step - loss: 1.1157 - accuracy: 0.6001 - val_loss: 1.4681 - val_accuracy: 0.4965\n",
      "Epoch 25/50\n",
      "50000/50000 [==============================] - 8s 167us/step - loss: 1.0940 - accuracy: 0.6068 - val_loss: 1.4516 - val_accuracy: 0.5003\n",
      "Epoch 26/50\n",
      "50000/50000 [==============================] - 8s 168us/step - loss: 1.0679 - accuracy: 0.6152 - val_loss: 1.6420 - val_accuracy: 0.4648\n",
      "Epoch 27/50\n",
      "50000/50000 [==============================] - 8s 167us/step - loss: 1.0532 - accuracy: 0.6208 - val_loss: 1.6523 - val_accuracy: 0.4663\n",
      "Epoch 28/50\n",
      "50000/50000 [==============================] - 8s 167us/step - loss: 1.0419 - accuracy: 0.6238 - val_loss: 1.5090 - val_accuracy: 0.5026\n",
      "Epoch 29/50\n",
      "50000/50000 [==============================] - 8s 168us/step - loss: 1.0267 - accuracy: 0.6291 - val_loss: 1.5066 - val_accuracy: 0.4863\n",
      "Epoch 30/50\n",
      "50000/50000 [==============================] - 8s 167us/step - loss: 0.9969 - accuracy: 0.6403 - val_loss: 1.5278 - val_accuracy: 0.5048\n",
      "Epoch 31/50\n",
      "50000/50000 [==============================] - 8s 167us/step - loss: 0.9922 - accuracy: 0.6415 - val_loss: 1.6816 - val_accuracy: 0.4721\n",
      "Epoch 32/50\n",
      "50000/50000 [==============================] - 8s 168us/step - loss: 0.9603 - accuracy: 0.6547 - val_loss: 1.5348 - val_accuracy: 0.5068\n",
      "Epoch 33/50\n",
      "50000/50000 [==============================] - 8s 167us/step - loss: 0.9444 - accuracy: 0.6581 - val_loss: 1.6065 - val_accuracy: 0.4968\n",
      "Epoch 34/50\n",
      "50000/50000 [==============================] - 9s 175us/step - loss: 0.9361 - accuracy: 0.6616 - val_loss: 1.6608 - val_accuracy: 0.4845\n",
      "Epoch 35/50\n",
      "50000/50000 [==============================] - 9s 180us/step - loss: 0.9167 - accuracy: 0.6701 - val_loss: 1.9816 - val_accuracy: 0.4243\n",
      "Epoch 36/50\n",
      "50000/50000 [==============================] - 9s 175us/step - loss: 0.9082 - accuracy: 0.6730 - val_loss: 1.6955 - val_accuracy: 0.4673\n",
      "Epoch 37/50\n",
      "50000/50000 [==============================] - 8s 168us/step - loss: 0.8766 - accuracy: 0.6849 - val_loss: 1.6804 - val_accuracy: 0.5034\n",
      "Epoch 38/50\n",
      "50000/50000 [==============================] - 9s 171us/step - loss: 0.8693 - accuracy: 0.6861 - val_loss: 1.6272 - val_accuracy: 0.5022\n",
      "Epoch 39/50\n",
      "50000/50000 [==============================] - 8s 169us/step - loss: 0.8488 - accuracy: 0.6938 - val_loss: 1.7043 - val_accuracy: 0.4957\n",
      "Epoch 40/50\n",
      "50000/50000 [==============================] - 9s 172us/step - loss: 0.8262 - accuracy: 0.7011 - val_loss: 1.7273 - val_accuracy: 0.4919\n",
      "Epoch 41/50\n",
      "50000/50000 [==============================] - 8s 169us/step - loss: 0.8227 - accuracy: 0.7026 - val_loss: 1.7578 - val_accuracy: 0.4776\n",
      "Epoch 42/50\n",
      "50000/50000 [==============================] - 8s 168us/step - loss: 0.8136 - accuracy: 0.7063 - val_loss: 1.7446 - val_accuracy: 0.4981\n",
      "Epoch 43/50\n",
      "50000/50000 [==============================] - 8s 169us/step - loss: 0.7821 - accuracy: 0.7154 - val_loss: 2.1058 - val_accuracy: 0.4494\n",
      "Epoch 44/50\n"
     ]
    },
    {
     "name": "stdout",
     "output_type": "stream",
     "text": [
      "50000/50000 [==============================] - 8s 168us/step - loss: 0.7877 - accuracy: 0.7149 - val_loss: 1.8259 - val_accuracy: 0.4819\n",
      "Epoch 45/50\n",
      "50000/50000 [==============================] - 9s 173us/step - loss: 0.7647 - accuracy: 0.7226 - val_loss: 1.8160 - val_accuracy: 0.4903\n",
      "Epoch 46/50\n",
      "50000/50000 [==============================] - 8s 169us/step - loss: 0.7557 - accuracy: 0.7273 - val_loss: 1.9125 - val_accuracy: 0.4797\n",
      "Epoch 47/50\n",
      "50000/50000 [==============================] - 8s 170us/step - loss: 0.7258 - accuracy: 0.7359 - val_loss: 1.9504 - val_accuracy: 0.4729\n",
      "Epoch 48/50\n",
      "50000/50000 [==============================] - 8s 169us/step - loss: 0.7263 - accuracy: 0.7365 - val_loss: 1.8032 - val_accuracy: 0.4888\n",
      "Epoch 49/50\n",
      "50000/50000 [==============================] - 8s 169us/step - loss: 0.6913 - accuracy: 0.7456 - val_loss: 2.0111 - val_accuracy: 0.4778\n",
      "Epoch 50/50\n",
      "50000/50000 [==============================] - 8s 169us/step - loss: 0.7013 - accuracy: 0.7461 - val_loss: 1.8954 - val_accuracy: 0.4931\n"
     ]
    },
    {
     "ename": "KeyError",
     "evalue": "'acc'",
     "output_type": "error",
     "traceback": [
      "\u001b[1;31m---------------------------------------------------------------------------\u001b[0m",
      "\u001b[1;31mKeyError\u001b[0m                                  Traceback (most recent call last)",
      "\u001b[1;32m<ipython-input-7-db6fb056ac3a>\u001b[0m in \u001b[0;36m<module>\u001b[1;34m\u001b[0m\n\u001b[0;32m     21\u001b[0m     \u001b[0mtrain_loss\u001b[0m \u001b[1;33m=\u001b[0m \u001b[0mmodel\u001b[0m\u001b[1;33m.\u001b[0m\u001b[0mhistory\u001b[0m\u001b[1;33m.\u001b[0m\u001b[0mhistory\u001b[0m\u001b[1;33m[\u001b[0m\u001b[1;34m\"loss\"\u001b[0m\u001b[1;33m]\u001b[0m\u001b[1;33m\u001b[0m\u001b[1;33m\u001b[0m\u001b[0m\n\u001b[0;32m     22\u001b[0m     \u001b[0mvalid_loss\u001b[0m \u001b[1;33m=\u001b[0m \u001b[0mmodel\u001b[0m\u001b[1;33m.\u001b[0m\u001b[0mhistory\u001b[0m\u001b[1;33m.\u001b[0m\u001b[0mhistory\u001b[0m\u001b[1;33m[\u001b[0m\u001b[1;34m\"val_loss\"\u001b[0m\u001b[1;33m]\u001b[0m\u001b[1;33m\u001b[0m\u001b[1;33m\u001b[0m\u001b[0m\n\u001b[1;32m---> 23\u001b[1;33m     \u001b[0mtrain_acc\u001b[0m \u001b[1;33m=\u001b[0m \u001b[0mmodel\u001b[0m\u001b[1;33m.\u001b[0m\u001b[0mhistory\u001b[0m\u001b[1;33m.\u001b[0m\u001b[0mhistory\u001b[0m\u001b[1;33m[\u001b[0m\u001b[1;34m\"acc\"\u001b[0m\u001b[1;33m]\u001b[0m\u001b[1;33m\u001b[0m\u001b[1;33m\u001b[0m\u001b[0m\n\u001b[0m\u001b[0;32m     24\u001b[0m     \u001b[0mvalid_acc\u001b[0m \u001b[1;33m=\u001b[0m \u001b[0mmodel\u001b[0m\u001b[1;33m.\u001b[0m\u001b[0mhistory\u001b[0m\u001b[1;33m.\u001b[0m\u001b[0mhistory\u001b[0m\u001b[1;33m[\u001b[0m\u001b[1;34m\"val_acc\"\u001b[0m\u001b[1;33m]\u001b[0m\u001b[1;33m\u001b[0m\u001b[1;33m\u001b[0m\u001b[0m\n\u001b[0;32m     25\u001b[0m \u001b[1;33m\u001b[0m\u001b[0m\n",
      "\u001b[1;31mKeyError\u001b[0m: 'acc'"
     ]
    }
   ],
   "source": [
    "results = {}\n",
    "import itertools\n",
    "\"\"\"Code Here\n",
    "撰寫你的訓練流程並將結果用 dictionary 紀錄\n",
    "\"\"\"\n",
    "for lr, momentum in itertools.product(LEARNING_RATE, MOMENTUM):\n",
    "    keras.backend.clear_session() # 把舊的 Graph 清掉\n",
    "    print(\"Experiment with LR = %.6f, Momentum = %.2f\" % (lr, momentum))\n",
    "    model = build_mlp(input_shape=x_train.shape[1:])\n",
    "    model.summary()\n",
    "    optimizer = keras.optimizers.SGD(lr=lr, nesterov=True, momentum=momentum)\n",
    "    model.compile(loss=\"categorical_crossentropy\", metrics=[\"accuracy\"], optimizer=optimizer)\n",
    "\n",
    "    model.fit(x_train, y_train, \n",
    "              epochs=EPOCHS, \n",
    "              batch_size=BATCH_SIZE, \n",
    "              validation_data=(x_test, y_test), \n",
    "              shuffle=True)\n",
    "    \n",
    "    # Collect results\n",
    "    train_loss = model.history.history[\"loss\"]\n",
    "    valid_loss = model.history.history[\"val_loss\"]\n",
    "    train_acc = model.history.history[\"accuracy\"]\n",
    "    valid_acc = model.history.history[\"val_accuracy\"]\n",
    "    \n",
    "    exp_name_tag = \"exp-lr-%s-momemtum-%s\" % (str(lr), str(momentum))\n",
    "    results[exp_name_tag] = {'train-loss': train_loss,\n",
    "                             'valid-loss': valid_loss,\n",
    "                             'train-acc': train_acc,\n",
    "                             'valid-acc': valid_acc}"
   ]
  },
  {
   "cell_type": "code",
   "execution_count": 8,
   "metadata": {},
   "outputs": [
    {
     "name": "stderr",
     "output_type": "stream",
     "text": [
      "No handles with labels found to put in legend.\n"
     ]
    },
    {
     "data": {
      "image/png": "[encoded data removed]",
      "text/plain": [
       "<Figure size 576x432 with 1 Axes>"
      ]
     },
     "metadata": {
      "needs_background": "light"
     },
     "output_type": "display_data"
    },
    {
     "name": "stderr",
     "output_type": "stream",
     "text": [
      "No handles with labels found to put in legend.\n"
     ]
    },
    {
     "data": {
      "image/png": "[encoded data removed]",
      "text/plain": [
       "<Figure size 576x432 with 1 Axes>"
      ]
     },
     "metadata": {
      "needs_background": "light"
     },
     "output_type": "display_data"
    }
   ],
   "source": [
    "import matplotlib.pyplot as plt\n",
    "%matplotlib inline\n",
    "\"\"\"Code Here\n",
    "將結果繪出\n",
    "\"\"\"\n",
    "\n",
    "NUM_COLORS = len(results.keys())\n",
    "cm = plt.get_cmap('gist_rainbow')\n",
    "color_bar = [cm(1.*i/NUM_COLORS) for i in range(NUM_COLORS)]\n",
    "\n",
    "plt.figure(figsize=(8,6))\n",
    "for i, cond in enumerate(results.keys()):\n",
    "    plt.plot(range(len(results[cond]['train-loss'])),results[cond]['train-loss'], '-', label=cond, color=color_bar[i])\n",
    "    plt.plot(range(len(results[cond]['valid-loss'])),results[cond]['valid-loss'], '--', label=cond, color=color_bar[i])\n",
    "plt.title(\"Loss\")\n",
    "plt.legend(loc='center left', bbox_to_anchor=(1, 0.5))\n",
    "plt.show()\n",
    "\n",
    "plt.figure(figsize=(8,6))\n",
    "for i, cond in enumerate(results.keys()):\n",
    "    plt.plot(range(len(results[cond]['train-acc'])),results[cond]['train-acc'], '-', label=cond, color=color_bar[i])\n",
    "    plt.plot(range(len(results[cond]['valid-acc'])),results[cond]['valid-acc'], '--', label=cond, color=color_bar[i])\n",
    "plt.title(\"Accuracy\")\n",
    "plt.legend(loc='center left', bbox_to_anchor=(1, 0.5))\n",
    "plt.show()"
   ]
  },
  {
   "cell_type": "code",
   "execution_count": null,
   "metadata": {},
   "outputs": [],
   "source": []
  }
 ],
 "metadata": {
  "kernelspec": {
   "display_name": "Python 3",
   "language": "python",
   "name": "python3"
  },
  "language_info": {
   "codemirror_mode": {
    "name": "ipython",
    "version": 3
   },
   "file_extension": ".py",
   "mimetype": "text/x-python",
   "name": "python",
   "nbconvert_exporter": "python",
   "pygments_lexer": "ipython3",
   "version": "3.6.9"
  }
 },
 "nbformat": 4,
 "nbformat_minor": 2
}
